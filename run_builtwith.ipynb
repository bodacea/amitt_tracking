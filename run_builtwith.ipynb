{
 "cells": [
  {
   "cell_type": "markdown",
   "metadata": {},
   "source": [
    "# Run builtwith on sites"
   ]
  },
  {
   "cell_type": "code",
   "execution_count": 1,
   "metadata": {},
   "outputs": [],
   "source": [
    "import pandas as pd\n",
    "import requests\n",
    "import json \n",
    "import re\n",
    "import os\n",
    "\n",
    "#Make sure there's somewhere to put the data\n",
    "if not os.path.exists('data/builtwith'):\n",
    "    os.makedirs('data/builtwith')"
   ]
  },
  {
   "cell_type": "code",
   "execution_count": 2,
   "metadata": {},
   "outputs": [
    {
     "name": "stdout",
     "output_type": "stream",
     "text": [
      "https://www.mmshealthy4life.com/\n",
      "https://www.mms-supplement.com/\n",
      "https://www.mmsdrops.com/\n"
     ]
    },
    {
     "data": {
      "text/html": [
       "<div>\n",
       "<style scoped>\n",
       "    .dataframe tbody tr th:only-of-type {\n",
       "        vertical-align: middle;\n",
       "    }\n",
       "\n",
       "    .dataframe tbody tr th {\n",
       "        vertical-align: top;\n",
       "    }\n",
       "\n",
       "    .dataframe thead th {\n",
       "        text-align: right;\n",
       "    }\n",
       "</style>\n",
       "<table border=\"1\" class=\"dataframe\">\n",
       "  <thead>\n",
       "    <tr style=\"text-align: right;\">\n",
       "      <th></th>\n",
       "    </tr>\n",
       "  </thead>\n",
       "  <tbody>\n",
       "  </tbody>\n",
       "</table>\n",
       "</div>"
      ],
      "text/plain": [
       "Empty DataFrame\n",
       "Columns: []\n",
       "Index: []"
      ]
     },
     "execution_count": 2,
     "metadata": {},
     "output_type": "execute_result"
    }
   ],
   "source": [
    "#fromsites = ['http://example.com']\n",
    "fromsites = ['https://www.mmshealthy4life.com/', 'https://www.mms-supplement.com/', \n",
    "             'https://www.mmsdrops.com/']\n",
    "\n",
    "f = open('/Users/sara/builtwithkey.txt', 'r')\n",
    "bwkey = f.readline().strip()\n",
    "f.close()\n",
    "bwapi = 'rv1' # 'free1' is the free api\n",
    "\n",
    "allmatches = pd.DataFrame([])\n",
    "allidentifiers = pd.DataFrame([])\n",
    "\n",
    "for bwdom in fromsites:\n",
    "    print(bwdom)\n",
    "    try:\n",
    "        bwurl = 'https://api.builtwith.com/{}/api.json?KEY={}&LOOKUP={}'.format(bwapi, bwkey, bwdom)\n",
    "        bwresp = requests.get(bwurl)\n",
    "\n",
    "        with open('data/builtwith/{}.json'.format(bwdom), 'w') as outfile:\n",
    "            json.dump(bwresp.json(), outfile)\n",
    "\n",
    "        matches = pd.DataFrame([])\n",
    "        identifiers = pd.DataFrame([])\n",
    "\n",
    "        rs = bwresp.json()['Relationships']\n",
    "        for thisr in rs:\n",
    "            fromdomain = thisr['Domain']\n",
    "            rsi = thisr['Identifiers']\n",
    "\n",
    "            ids = pd.DataFrame(rsi).drop('Matches', axis=1)\n",
    "            ids['FromDomain'] = fromdomain\n",
    "            identifiers = identifiers.append(ids)\n",
    "\n",
    "            for rsix in rsi:\n",
    "                rsimatches = pd.DataFrame(rsix['Matches'])\n",
    "                rsimatches['Type'] = rsix['Type']\n",
    "                rsimatches['Value'] = rsix['Value']\n",
    "                rsimatches['FromDomain'] = fromdomain\n",
    "                if len(rsimatches) > 0:\n",
    "                    matches = matches.append(rsimatches)\n",
    "        matches.to_csv('data/builtwith/{}_matches.csv'.format(bwdom), index=False)\n",
    "        identifiers.to_csv('data/builtwith/{}_identifiers.csv'.format(bwdom), index=False)\n",
    "        if len(matches) > 0:\n",
    "            allmatches = allmatches.append(matches)\n",
    "        if len(identifiers) > 0:\n",
    "            allidentifiers = allidentifiers.append(identifiers)\n",
    "    except:\n",
    "        continue\n",
    "\n",
    "allmatches"
   ]
  },
  {
   "cell_type": "code",
   "execution_count": 5,
   "metadata": {},
   "outputs": [
    {
     "data": {
      "text/html": [
       "<div>\n",
       "<style scoped>\n",
       "    .dataframe tbody tr th:only-of-type {\n",
       "        vertical-align: middle;\n",
       "    }\n",
       "\n",
       "    .dataframe tbody tr th {\n",
       "        vertical-align: top;\n",
       "    }\n",
       "\n",
       "    .dataframe thead th {\n",
       "        text-align: right;\n",
       "    }\n",
       "</style>\n",
       "<table border=\"1\" class=\"dataframe\">\n",
       "  <thead>\n",
       "    <tr style=\"text-align: right;\">\n",
       "      <th></th>\n",
       "    </tr>\n",
       "  </thead>\n",
       "  <tbody>\n",
       "  </tbody>\n",
       "</table>\n",
       "</div>"
      ],
      "text/plain": [
       "Empty DataFrame\n",
       "Columns: []\n",
       "Index: []"
      ]
     },
     "execution_count": 5,
     "metadata": {},
     "output_type": "execute_result"
    }
   ],
   "source": [
    "allidentifiers"
   ]
  },
  {
   "cell_type": "code",
   "execution_count": 4,
   "metadata": {},
   "outputs": [
    {
     "data": {
      "text/plain": [
       "{'Relationships': [{'Domain': 'mmsdrops.com',\n",
       "   'Identifiers': [{'Type': 'ip',\n",
       "     'Value': '108.175.2.66',\n",
       "     'First': 1369922400000,\n",
       "     'Last': 1454936400000,\n",
       "     'Matches': [{'Domain': '9kmovies.com',\n",
       "       'First': 1371650400000,\n",
       "       'Last': 1371650400000,\n",
       "       'Overlap': True},\n",
       "      {'Domain': 'ampspluselectricalllc.com',\n",
       "       'First': 1369922400000,\n",
       "       'Last': 1454936400000,\n",
       "       'Overlap': True},\n",
       "      {'Domain': 'adamsmeditech.com',\n",
       "       'First': 1369922400000,\n",
       "       'Last': 1452430800000,\n",
       "       'Overlap': True},\n",
       "      {'Domain': 'carbonescarcare.com',\n",
       "       'First': 1369922400000,\n",
       "       'Last': 1454936400000,\n",
       "       'Overlap': True},\n",
       "      {'Domain': 'halband.net',\n",
       "       'First': 1369922400000,\n",
       "       'Last': 1452430800000,\n",
       "       'Overlap': True},\n",
       "      {'Domain': 'mccollom-thomas.com',\n",
       "       'First': 1369922400000,\n",
       "       'Last': 1384261200000,\n",
       "       'Overlap': True},\n",
       "      {'Domain': 'stjohnslab.com',\n",
       "       'First': 1369922400000,\n",
       "       'Last': 1440338400000,\n",
       "       'Overlap': True},\n",
       "      {'Domain': 'rfconcrete.com',\n",
       "       'First': 1369922400000,\n",
       "       'Last': 1400421600000,\n",
       "       'Overlap': True},\n",
       "      {'Domain': 'rgmtransport.com',\n",
       "       'First': 1369922400000,\n",
       "       'Last': 1400421600000,\n",
       "       'Overlap': True},\n",
       "      {'Domain': 'monte-and-sons-auto-repair.net',\n",
       "       'First': 1369922400000,\n",
       "       'Last': 1440338400000,\n",
       "       'Overlap': True},\n",
       "      {'Domain': 'nydreamhouse.com',\n",
       "       'First': 1393160400000,\n",
       "       'Last': 1397829600000,\n",
       "       'Overlap': True},\n",
       "      {'Domain': 'lelamed.com',\n",
       "       'First': 1434895200000,\n",
       "       'Last': 1440338400000,\n",
       "       'Overlap': True},\n",
       "      {'Domain': 'thedailydoily.com',\n",
       "       'First': 1454936400000,\n",
       "       'Last': 1454936400000,\n",
       "       'Overlap': True},\n",
       "      {'Domain': 'wpsdrops.com',\n",
       "       'First': 1454936400000,\n",
       "       'Last': 1454936400000,\n",
       "       'Overlap': True},\n",
       "      {'Domain': 'hayworks.ca',\n",
       "       'First': 1402700400000,\n",
       "       'Last': 1445554800000,\n",
       "       'Overlap': True}]},\n",
       "    {'Type': 'google-analytics',\n",
       "     'Value': '37745667',\n",
       "     'First': 1381669200000,\n",
       "     'Last': 1585400324150,\n",
       "     'Matches': []},\n",
       "    {'Type': 'ip',\n",
       "     'Value': '74.208.215.126',\n",
       "     'First': 1508799600000,\n",
       "     'Last': 1533596400000,\n",
       "     'Matches': []},\n",
       "    {'Type': 'ip',\n",
       "     'Value': '104.27.144.247',\n",
       "     'First': 1542856064512,\n",
       "     'Last': 1561984915219,\n",
       "     'Matches': []},\n",
       "    {'Type': 'ip',\n",
       "     'Value': '104.27.145.247',\n",
       "     'First': 1542856064512,\n",
       "     'Last': 1566387208454,\n",
       "     'Matches': []},\n",
       "    {'Type': 'ip',\n",
       "     'Value': '74.208.236.70',\n",
       "     'First': 1571768186268,\n",
       "     'Last': 1585400324150,\n",
       "     'Matches': []}]}],\n",
       " 'Errors': []}"
      ]
     },
     "execution_count": 4,
     "metadata": {},
     "output_type": "execute_result"
    }
   ],
   "source": [
    "bwresp.json()"
   ]
  },
  {
   "cell_type": "code",
   "execution_count": null,
   "metadata": {},
   "outputs": [],
   "source": []
  }
 ],
 "metadata": {
  "kernelspec": {
   "display_name": "Python 3",
   "language": "python",
   "name": "python3"
  },
  "language_info": {
   "codemirror_mode": {
    "name": "ipython",
    "version": 3
   },
   "file_extension": ".py",
   "mimetype": "text/x-python",
   "name": "python",
   "nbconvert_exporter": "python",
   "pygments_lexer": "ipython3",
   "version": "3.7.3"
  }
 },
 "nbformat": 4,
 "nbformat_minor": 2
}
