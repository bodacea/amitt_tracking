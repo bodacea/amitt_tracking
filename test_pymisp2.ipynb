{
 "cells": [
  {
   "cell_type": "markdown",
   "metadata": {},
   "source": [
    "# Access a MISP instance using pymisp\n",
    "\n",
    "Before running this, you'll need:\n",
    "\n",
    "* Pip install pymisp\n",
    "* Access token for a MISP instance\n",
    "\n",
    "More help at\n",
    "* https://pypi.org/project/pymisp/\n",
    "* Pymisp notebooks: https://github.com/MISP/PyMISP/tree/master/docs/tutorial "
   ]
  },
  {
   "cell_type": "code",
   "execution_count": 1,
   "metadata": {},
   "outputs": [],
   "source": [
    "from pymisp import ExpandedPyMISP\n",
    "\n",
    "\n",
    "# Get MISP creds\n",
    "cscsecret = open('/Users/sara/cscmisp.txt', 'r')\n",
    "(cscurl,csckey) = [x.strip() for x in cscsecret.readline().split(',')]\n",
    "cscsecret.close()\n",
    "misp = ExpandedPyMISP(cscurl, csckey, True)\n",
    "\n",
    "# Uncomment if you want to see what misp can do\n",
    "# help(misp)"
   ]
  },
  {
   "cell_type": "markdown",
   "metadata": {},
   "source": [
    "# Read in an incident and its details\n",
    "\n",
    "What we'd like to do is 1) see all the MISP events that we have for our group\n",
    "* Get a list of events for our group - or all connected groups\n",
    "* Filter that list by topics of interest (e.g. COVID-19 tags)\n",
    "* See the event ids that correspond to the incident names we use in our other systems\n",
    "\n",
    "We'd like to read data on a specific event, so we can use it in analysis\n",
    "* Get data for a named incident\n",
    "\n",
    "We'd also like to know about the data that's connected to a specific event, so we can analyse that too\n",
    "* Get objects connected to a named incident"
   ]
  },
  {
   "cell_type": "code",
   "execution_count": 8,
   "metadata": {},
   "outputs": [
    {
     "data": {
      "text/plain": [
       "{'US Piracy': '31', 'Covid5G': '8090'}"
      ]
     },
     "execution_count": 8,
     "metadata": {},
     "output_type": "execute_result"
    }
   ],
   "source": [
    "# List the Covid19 results we have in the MISP\n",
    "results = misp.search(\"events\", tags=\"COVID-19\")\n",
    "eventids = {result['Event']['info']:result['Event']['id'] for result in results}\n",
    "eventids"
   ]
  },
  {
   "cell_type": "code",
   "execution_count": 38,
   "metadata": {},
   "outputs": [
    {
     "name": "stdout",
     "output_type": "stream",
     "text": [
      "Keys are: dict_keys(['id', 'orgc_id', 'org_id', 'date', 'threat_level_id', 'info', 'published', 'uuid', 'attribute_count', 'analysis', 'timestamp', 'distribution', 'proposal_email_lock', 'locked', 'publish_timestamp', 'sharing_group_id', 'disable_correlation', 'extends_uuid', 'event_creator_email', 'Org', 'Orgc', 'Attribute', 'ShadowAttribute', 'RelatedEvent', 'Galaxy', 'Object', 'Tag'])\n",
      "\n",
      "Tags are: ['COVID-19', 'misp-galaxy:amitt-misinformation-pattern=\"Create hashtag\"', 'misp-galaxy:amitt-misinformation-pattern=\"Cultivate useful idiots\"', 'misp-galaxy:amitt-misinformation-pattern=\"Conspiracy narratives\"', 'misp-galaxy:amitt-misinformation-pattern=\"Twitter\"', 'misp-galaxy:amitt-misinformation-pattern=\"Use hashtag\"']\n",
      "\n",
      "TTPs are: [['Create hashtag', 'Cultivate useful idiots', 'Conspiracy narratives', 'Twitter', 'Use hashtag']]\n",
      "\n",
      "Objects are: [('microblog', 'Microblog post like a Twitter tweet or a post on a Facebook wall.')]\n",
      "\n",
      "Details are: {'Event': {'id': '8090', 'orgc_id': '1', 'org_id': '1', 'date': '2020-04-29', 'threat_level_id': '4', 'info': 'Covid5G', 'published': False, 'uuid': '5ea8ded8-c790-457e-ba18-04e8ac150006', 'attribute_count': '5', 'analysis': '0', 'timestamp': '1588126766', 'distribution': '2', 'proposal_email_lock': False, 'locked': False, 'publish_timestamp': '0', 'sharing_group_id': '0', 'disable_correlation': False, 'extends_uuid': '', 'event_creator_email': 'sarajterp@gmail.com', 'Org': {'id': '1', 'name': 'CogSec Collab', 'uuid': '5e2dd31a-3bcc-45e8-ba7e-2ab890d945c8', 'local': True}, 'Orgc': {'id': '1', 'name': 'CogSec Collab', 'uuid': '5e2dd31a-3bcc-45e8-ba7e-2ab890d945c8', 'local': True}, 'Attribute': [], 'ShadowAttribute': [], 'RelatedEvent': [], 'Galaxy': [{'id': '21', 'uuid': '4d381145-9a5e-4778-918c-fbf23d78544e', 'name': 'Misinformation Pattern', 'type': 'amitt-misinformation-pattern', 'description': 'AM!TT Tactic', 'version': '4', 'icon': 'map', 'namespace': 'misinfosec', 'kill_chain_order': {'misinformation-tactics': ['Strategic Planning', 'Objective Planning', 'Develop People', 'Develop Networks', 'Microtargeting', 'Develop Content', 'Channel Selection', 'Pump Priming', 'Exposure', 'Go Physical', 'Persistence', 'Measure Effectiveness']}, 'GalaxyCluster': [{'id': '3199', 'uuid': '80c68f29-1c22-4277-93c0-e19f97bd56ee', 'collection_uuid': 'b3f65346-49e4-48c3-88f8-354902a5fe47', 'type': 'amitt-misinformation-pattern', 'value': 'Create hashtag', 'tag_name': 'misp-galaxy:amitt-misinformation-pattern=\"Create hashtag\"', 'description': 'Many incident-based campaigns will create a hashtag to promote their fabricated event (e.g. #ColumbianChemicals to promote a fake story about a chemical spill in Louisiana). \\n\\nCreating a hashtag for an incident can have two important effects:\\n1. Create a perception of reality around an event. Certainly only \"real\" events would be discussed in a hashtag. After all, the event has a name!\\n2. Publicize the story more widely through trending lists and search behavior \\n\\nAsset needed to direct/control/manage \"conversation\" connected to launching new incident/campaign with new hashtag for applicable social media sites ie: Twitter, LinkedIn)', 'galaxy_id': '21', 'source': 'https://github.com/misinfosecproject/amitt_framework', 'authors': ['misinfosecproject'], 'version': '4', 'meta': {'external_id': ['T0015'], 'kill_chain': ['misinformation-tactics:Develop Networks'], 'refs': ['https://github.com/misinfosecproject/amitt_framework/blob/master/techniques/T0015.md']}, 'tag_id': '8', 'local': False}, {'id': '3194', 'uuid': '784cfb1f-c6f5-44a3-8b60-272c64aac4ea', 'collection_uuid': 'b3f65346-49e4-48c3-88f8-354902a5fe47', 'type': 'amitt-misinformation-pattern', 'value': 'Cultivate useful idiots', 'tag_name': 'misp-galaxy:amitt-misinformation-pattern=\"Cultivate useful idiots\"', 'description': 'Cultivate propagandists for a cause, the goals of which are not fully comprehended, and who are used cynically by the leaders of the cause. Independent actors use social media and specialised web sites to strategically reinforce and spread messages compatible with their own. Their networks are infiltrated and used by state media disinformation organisations to amplify the state’s own disinformation strategies against target populations. Many are traffickers in conspiracy theories or hoaxes, unified by a suspicion of Western governments and mainstream media. Their narratives, which appeal to leftists hostile to globalism and military intervention and nationalists against immigration, are frequently infiltrated and shaped by state-controlled trolls and altered news items from agencies such as RT and Sputnik. Also know as \"useful idiots\" or \"unwitting agents\".', 'galaxy_id': '21', 'source': 'https://github.com/misinfosecproject/amitt_framework', 'authors': ['misinfosecproject'], 'version': '4', 'meta': {'external_id': ['T0010'], 'kill_chain': ['misinformation-tactics:Develop Networks'], 'refs': ['https://github.com/misinfosecproject/amitt_framework/blob/master/techniques/T0010.md']}, 'tag_id': '1735', 'local': False}, {'id': '3206', 'uuid': '5a832f09-0b39-4734-b7a1-9a4592bdb57e', 'collection_uuid': 'b3f65346-49e4-48c3-88f8-354902a5fe47', 'type': 'amitt-misinformation-pattern', 'value': 'Conspiracy narratives', 'tag_name': 'misp-galaxy:amitt-misinformation-pattern=\"Conspiracy narratives\"', 'description': '\"Conspiracy narratives appeal to the human desire for explanatory order, by invoking the participation of poweful (often sinister) actors in pursuit of their own political goals. These narratives are especially appealing when an audience is low-information, marginalized or otherwise inclined to reject the prevailing explanation. Conspiracy narratives are an important component of the \"\"firehose of falsehoods\"\" model.   \\n\\nExample: QAnon: conspiracy theory is an explanation of an event or situation that invokes a conspiracy by sinister and powerful actors, often political in motivation, when other explanations are more probable \"', 'galaxy_id': '21', 'source': 'https://github.com/misinfosecproject/amitt_framework', 'authors': ['misinfosecproject'], 'version': '4', 'meta': {'external_id': ['T0022'], 'kill_chain': ['misinformation-tactics:Develop Content'], 'refs': ['https://github.com/misinfosecproject/amitt_framework/blob/master/techniques/T0022.md']}, 'tag_id': '15', 'local': False}, {'id': '3222', 'uuid': 'c2463ebc-2156-4597-b8e8-cad15954cab4', 'collection_uuid': 'b3f65346-49e4-48c3-88f8-354902a5fe47', 'type': 'amitt-misinformation-pattern', 'value': 'Twitter', 'tag_name': 'misp-galaxy:amitt-misinformation-pattern=\"Twitter\"', 'description': 'Use Twitter as a narrative dissemination channel', 'galaxy_id': '21', 'source': 'https://github.com/misinfosecproject/amitt_framework', 'authors': ['misinfosecproject'], 'version': '4', 'meta': {'external_id': ['T0038'], 'kill_chain': ['misinformation-tactics:Channel Selection'], 'refs': ['https://github.com/misinfosecproject/amitt_framework/blob/master/techniques/T0038.md']}, 'tag_id': '19', 'local': False}, {'id': '3239', 'uuid': '0f490149-34b2-4316-b19b-7b43423522b3', 'collection_uuid': 'b3f65346-49e4-48c3-88f8-354902a5fe47', 'type': 'amitt-misinformation-pattern', 'value': 'Use hashtag', 'tag_name': 'misp-galaxy:amitt-misinformation-pattern=\"Use hashtag\"', 'description': 'Use the dedicated hashtag for the incident (e.g. #PhosphorusDisaster)', 'galaxy_id': '21', 'source': 'https://github.com/misinfosecproject/amitt_framework', 'authors': ['misinfosecproject'], 'version': '4', 'meta': {'external_id': ['T0055'], 'kill_chain': ['misinformation-tactics:Exposure'], 'refs': ['https://github.com/misinfosecproject/amitt_framework/blob/master/techniques/T0055.md']}, 'tag_id': '6', 'local': False}]}], 'Object': [{'id': '16659', 'name': 'microblog', 'meta-category': 'misc', 'description': 'Microblog post like a Twitter tweet or a post on a Facebook wall.', 'template_uuid': '8ec8c911-ddbe-4f5b-895b-fbff70c42a60', 'template_version': '20', 'event_id': '8090', 'uuid': '5ea8e42e-3b40-480b-aa8a-001dac150006', 'timestamp': '1588126766', 'distribution': '5', 'sharing_group_id': '0', 'comment': '', 'deleted': False, 'first_seen': None, 'last_seen': None, 'ObjectReference': [], 'Attribute': [{'id': '42915', 'type': 'text', 'category': 'Other', 'to_ids': False, 'uuid': '5ea8e42e-3944-4f8f-a2ea-001dac150006', 'event_id': '8090', 'distribution': '5', 'timestamp': '1588126766', 'comment': '', 'sharing_group_id': '0', 'deleted': False, 'disable_correlation': False, 'object_id': '16659', 'object_relation': 'post', 'first_seen': None, 'last_seen': None, 'value': 'Replying to @manchihouse and @realFFK “In my research and opinion, #5GTOWERS in #Wuhan absolutely has contributed to the #Covid_19 deaths with people dying, passing out due to brains starved of oxygen: https://vaxxter.com/5g-coronavirus-deadly-trigger/… \"High altitude sickness\" and hypoxia, and now \"fizzing\" or buzzing are signs of EMF exposure”', 'Galaxy': [], 'ShadowAttribute': []}, {'id': '42916', 'type': 'url', 'category': 'Network activity', 'to_ids': True, 'uuid': '5ea8e42e-fd0c-41dc-878f-001dac150006', 'event_id': '8090', 'distribution': '5', 'timestamp': '1588126766', 'comment': '', 'sharing_group_id': '0', 'deleted': False, 'disable_correlation': False, 'object_id': '16659', 'object_relation': 'url', 'first_seen': None, 'last_seen': None, 'value': 'https://twitter.com/Cloudnician/status/1249024124304928771', 'Galaxy': [], 'ShadowAttribute': []}, {'id': '42917', 'type': 'text', 'category': 'Other', 'to_ids': False, 'uuid': '5ea8e42e-5054-4473-963a-001dac150006', 'event_id': '8090', 'distribution': '5', 'timestamp': '1588126766', 'comment': '', 'sharing_group_id': '0', 'deleted': False, 'disable_correlation': True, 'object_id': '16659', 'object_relation': 'type', 'first_seen': None, 'last_seen': None, 'value': 'Twitter', 'Galaxy': [], 'ShadowAttribute': []}, {'id': '42918', 'type': 'text', 'category': 'Other', 'to_ids': False, 'uuid': '5ea8e42e-96dc-43cf-a447-001dac150006', 'event_id': '8090', 'distribution': '5', 'timestamp': '1588126766', 'comment': '', 'sharing_group_id': '0', 'deleted': False, 'disable_correlation': False, 'object_id': '16659', 'object_relation': 'in-reply-to-display-name', 'first_seen': None, 'last_seen': None, 'value': '@manchihouse and @realFFK', 'Galaxy': [], 'ShadowAttribute': []}, {'id': '42919', 'type': 'twitter-id', 'category': 'Social network', 'to_ids': False, 'uuid': '5ea8e42e-5550-410e-928f-001dac150006', 'event_id': '8090', 'distribution': '5', 'timestamp': '1588126766', 'comment': '', 'sharing_group_id': '0', 'deleted': False, 'disable_correlation': False, 'object_id': '16659', 'object_relation': 'twitter-id', 'first_seen': None, 'last_seen': None, 'value': '@Cloudnician', 'Galaxy': [], 'ShadowAttribute': []}]}], 'Tag': [{'id': '732', 'name': 'COVID-19', 'colour': '#ffcb05', 'exportable': True, 'user_id': '0', 'hide_tag': False, 'numerical_value': None, 'local': 0}, {'id': '8', 'name': 'misp-galaxy:amitt-misinformation-pattern=\"Create hashtag\"', 'colour': '#0088cc', 'exportable': True, 'user_id': '0', 'hide_tag': False, 'numerical_value': None, 'local': 0}, {'id': '1735', 'name': 'misp-galaxy:amitt-misinformation-pattern=\"Cultivate useful idiots\"', 'colour': '#0088cc', 'exportable': True, 'user_id': '0', 'hide_tag': False, 'numerical_value': None, 'local': 0}, {'id': '15', 'name': 'misp-galaxy:amitt-misinformation-pattern=\"Conspiracy narratives\"', 'colour': '#0088cc', 'exportable': True, 'user_id': '0', 'hide_tag': False, 'numerical_value': None, 'local': 0}, {'id': '19', 'name': 'misp-galaxy:amitt-misinformation-pattern=\"Twitter\"', 'colour': '#0088cc', 'exportable': True, 'user_id': '0', 'hide_tag': False, 'numerical_value': None, 'local': 0}, {'id': '6', 'name': 'misp-galaxy:amitt-misinformation-pattern=\"Use hashtag\"', 'colour': '#0088cc', 'exportable': True, 'user_id': '0', 'hide_tag': False, 'numerical_value': None, 'local': 0}]}}\n"
     ]
    }
   ],
   "source": [
    "# We have 2 ways to view data for an event - we can uncomment the next line, and \n",
    "# look at it directly\n",
    "# results[1]['Event']\n",
    "\n",
    "# Or we can get the event by id / name; directly with \"misp.get_event(8090)\" or with this\n",
    "# Have separated out the keys - these are basically flat except for \n",
    "# * Org/Orgc (details of organisation)\n",
    "# * Galaxy\n",
    "# * Object\n",
    "# * Tag\n",
    "eventname = 'Covid5G'\n",
    "if eventname in eventids:\n",
    "    eventdetails = misp.get_event(eventids[eventname]) \n",
    "    print('Keys are: {}\\n'.format(eventdetails['Event'].keys()))\n",
    "    print('Tags are: {}\\n'.format([x['name'] for x in eventdetails['Event']['Tag']]))\n",
    "    print('TTPs are: {}\\n'.format([[x['value'] for x in y['GalaxyCluster']] for y in eventdetails['Event']['Galaxy']]))\n",
    "    print('Objects are: {}\\n'.format([(x['name'], x['description']) for x in eventdetails['Event']['Object']]\n",
    "))\n",
    "    print('Details are: {}'.format(eventdetails))"
   ]
  },
  {
   "cell_type": "markdown",
   "metadata": {},
   "source": [
    "# Create an incident in MISP\n",
    "\n",
    "What we'd like to do is 1) add a new incident to MISP\n",
    "* set distribution to \"connected communities\"\n",
    "* set threat level to undefined\n",
    "* set event info to the name of the incident\n",
    "* set tags to e.g. \"Covid-19\"\n",
    "* (maybe) add the misinformation pattern - although that's probably better done by hand\n",
    "* get the event id for this incident\n",
    "\n",
    "What we'd like to do is also 2) add mass incident data to this event from a spreadsheet\n",
    "* Add an object to the event for every microblog (tweet or facebook post)\n",
    "* Add an object for every facebook group\n",
    "* Add an object for every URL\n",
    "* Fill out as many details as we can for each type of object\n",
    "\n",
    "What we'd also like to do is 3) add incident data to this event from slack, via bot\n",
    "* as above, but using bot commands"
   ]
  },
  {
   "cell_type": "code",
   "execution_count": null,
   "metadata": {},
   "outputs": [],
   "source": [
    "from datetime import date\n",
    "from pymisp import MISPEvent\n",
    "\n",
    "#fill out these things\n",
    "incidentstart = '2020-04-14' #date.today() \n",
    "incidentname = 'operationgridlock'\n",
    "tags = ['tlp:white', 'COVID-19', 'lockdown']\n",
    "\n",
    "# Create event object\n",
    "event = MISPEvent()\n",
    "\n",
    "event.info = incidentname\n",
    "event.distribution = 2\n",
    "event.threat_level_id = 4\n",
    "event.analysis = 0 #initial analysis\n",
    "event.set_date(incidentstart)\n",
    "for tag in tags:\n",
    "    event.add_tag(tag)\n",
    "\n",
    "newevent = misp.add_event(event, pythonify=True)\n",
    "\n",
    "print(event.to_json())"
   ]
  },
  {
   "cell_type": "markdown",
   "metadata": {},
   "source": [
    "# Add an object to a MISP incident"
   ]
  },
  {
   "cell_type": "code",
   "execution_count": 51,
   "metadata": {},
   "outputs": [],
   "source": [
    "from pymisp import MISPObject\n",
    "from misp_objects import MicroblogObject\n",
    "\n",
    "# Create object\n",
    "object_properties = {'url': 'https://twitter.com/josh_emerson/status/1250539109246001152?s=19'}\n",
    "misp_object = MicroblogObject(parameters=object_properties)\n",
    "\n",
    "# Add object to incident\n",
    "incidentid = str(8090)\n",
    "incidentevent = misp.get_event(incidentid, pythonify=True)\n",
    "incidentevent.add_object(misp_object)\n",
    "response = incidentevent.Object.append(misp_object)\n",
    "response = misp.update_event(incidentid, incidentevent)"
   ]
  },
  {
   "cell_type": "code",
   "execution_count": null,
   "metadata": {},
   "outputs": [],
   "source": []
  }
 ],
 "metadata": {
  "kernelspec": {
   "display_name": "Python 3",
   "language": "python",
   "name": "python3"
  },
  "language_info": {
   "codemirror_mode": {
    "name": "ipython",
    "version": 3
   },
   "file_extension": ".py",
   "mimetype": "text/x-python",
   "name": "python",
   "nbconvert_exporter": "python",
   "pygments_lexer": "ipython3",
   "version": "3.7.3"
  }
 },
 "nbformat": 4,
 "nbformat_minor": 2
}
