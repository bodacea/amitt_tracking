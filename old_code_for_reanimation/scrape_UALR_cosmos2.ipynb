{
 "cells": [
  {
   "cell_type": "markdown",
   "metadata": {},
   "source": [
    "# Scrape Uni Arkansas COSMOS list\n",
    "\n"
   ]
  },
  {
   "cell_type": "code",
   "execution_count": 1,
   "metadata": {},
   "outputs": [
    {
     "name": "stdout",
     "output_type": "stream",
     "text": [
      "557 entries in database\n",
      "557 actual entries\n"
     ]
    },
    {
     "ename": "AttributeError",
     "evalue": "'NoneType' object has no attribute 'text'",
     "output_type": "error",
     "traceback": [
      "\u001b[0;31m---------------------------------------------------------------------------\u001b[0m",
      "\u001b[0;31mAttributeError\u001b[0m                            Traceback (most recent call last)",
      "\u001b[0;32m<ipython-input-1-0752c927f76c>\u001b[0m in \u001b[0;36m<module>\u001b[0;34m\u001b[0m\n\u001b[1;32m     38\u001b[0m     \u001b[0;31m#entry.find('li', id='published') #.find('p', id='value')\u001b[0m\u001b[0;34m\u001b[0m\u001b[0;34m\u001b[0m\u001b[0;34m\u001b[0m\u001b[0m\n\u001b[1;32m     39\u001b[0m     \u001b[0msourcecomment\u001b[0m \u001b[0;34m=\u001b[0m \u001b[0mentry\u001b[0m\u001b[0;34m.\u001b[0m\u001b[0mfind\u001b[0m\u001b[0;34m(\u001b[0m\u001b[0mtext\u001b[0m\u001b[0;34m=\u001b[0m\u001b[0mre\u001b[0m\u001b[0;34m.\u001b[0m\u001b[0mcompile\u001b[0m\u001b[0;34m(\u001b[0m\u001b[0;34m\"Sources\"\u001b[0m\u001b[0;34m)\u001b[0m\u001b[0;34m)\u001b[0m\u001b[0;34m\u001b[0m\u001b[0;34m\u001b[0m\u001b[0m\n\u001b[0;32m---> 40\u001b[0;31m     \u001b[0msources\u001b[0m \u001b[0;34m=\u001b[0m \u001b[0mbs\u001b[0m\u001b[0;34m(\u001b[0m\u001b[0msourcecomment\u001b[0m\u001b[0;34m)\u001b[0m\u001b[0;34m.\u001b[0m\u001b[0mfind\u001b[0m\u001b[0;34m(\u001b[0m\u001b[0;34m'p'\u001b[0m\u001b[0;34m,\u001b[0m \u001b[0mid\u001b[0m\u001b[0;34m=\u001b[0m\u001b[0;34m'value'\u001b[0m\u001b[0;34m)\u001b[0m\u001b[0;34m.\u001b[0m\u001b[0mtext\u001b[0m\u001b[0;34m\u001b[0m\u001b[0;34m\u001b[0m\u001b[0m\n\u001b[0m\u001b[1;32m     41\u001b[0m     \u001b[0mpubcomment\u001b[0m \u001b[0;34m=\u001b[0m \u001b[0mentry\u001b[0m\u001b[0;34m.\u001b[0m\u001b[0mfind\u001b[0m\u001b[0;34m(\u001b[0m\u001b[0mtext\u001b[0m\u001b[0;34m=\u001b[0m\u001b[0mre\u001b[0m\u001b[0;34m.\u001b[0m\u001b[0mcompile\u001b[0m\u001b[0;34m(\u001b[0m\u001b[0;34m\"Published\"\u001b[0m\u001b[0;34m)\u001b[0m\u001b[0;34m)\u001b[0m\u001b[0;34m\u001b[0m\u001b[0;34m\u001b[0m\u001b[0m\n\u001b[1;32m     42\u001b[0m     \u001b[0mpublished\u001b[0m \u001b[0;34m=\u001b[0m \u001b[0mbs\u001b[0m\u001b[0;34m(\u001b[0m\u001b[0mpubcomment\u001b[0m\u001b[0;34m)\u001b[0m\u001b[0;34m.\u001b[0m\u001b[0mfind\u001b[0m\u001b[0;34m(\u001b[0m\u001b[0;34m'p'\u001b[0m\u001b[0;34m,\u001b[0m \u001b[0mid\u001b[0m\u001b[0;34m=\u001b[0m\u001b[0;34m'value'\u001b[0m\u001b[0;34m)\u001b[0m\u001b[0;34m.\u001b[0m\u001b[0mtext\u001b[0m\u001b[0;34m\u001b[0m\u001b[0;34m\u001b[0m\u001b[0m\n",
      "\u001b[0;31mAttributeError\u001b[0m: 'NoneType' object has no attribute 'text'"
     ]
    }
   ],
   "source": [
    "import pandas as pd\n",
    "import numpy as np\n",
    "import requests\n",
    "from bs4 import BeautifulSoup as bs\n",
    "import re\n",
    "import os\n",
    "\n",
    "if not os.path.exists('data/scrapes'):\n",
    "    os.makedirs('data/scrapes')\n",
    "\n",
    "baseurl = 'http://cosmos.ualr.edu/misinformation'\n",
    "\n",
    "html = requests.get(baseurl.format(0)).text\n",
    "soup = bs(html, 'lxml')\n",
    "rescount = int(soup.find('li', id='resultsCounterWrapper').find('span').text)\n",
    "print('{} entries in database'.format(rescount))\n",
    "\n",
    "entries = soup.find_all('li', id='misinfo')\n",
    "print('{} actual entries'.format(len(entries)))\n",
    "\n",
    "entryarr = []\n",
    "for i, entry in enumerate(entries): \n",
    "\n",
    "    #Want to grab category, title, text, date, debunker\n",
    "    titleset = entry.find('p', id='title')\n",
    "    category = titleset.find('span', id='tag').text\n",
    "    title = titleset.find('span', id='text').text\n",
    "    description = entry.find('p', id='description').text\n",
    "    if entry.find('li', id='debunkedBy') == None:\n",
    "        debunkdate = ''\n",
    "        debunkedby = ''\n",
    "        debunkedbyurl = ''\n",
    "    else:\n",
    "        debunkdate = entry.find('li', id='debunkDate').find('p', id='value').text\n",
    "        debunkedby = entry.find('li', id='debunkedBy').find('p', id='value').text.strip()\n",
    "        debunkedbyurl = entry.find('li', id='debunkedBy').find('a').get('href')\n",
    "    #published = \n",
    "    #entry.find('li', id='published') #.find('p', id='value')\n",
    "    sourcecomment = entry.find(text=re.compile(\"Sources\"))\n",
    "    sources = bs(sourcecomment).find('p', id='value').text\n",
    "    pubcomment = entry.find(text=re.compile(\"Published\"))\n",
    "    published = bs(pubcomment).find('p', id='value').text\n",
    "    entryarr += [[i, category, title, description, debunkdate, \n",
    "                  debunkedby, debunkedbyurl, sources, published]]\n",
    "\n",
    "df = pd.DataFrame(entryarr, columns=['index', 'category', 'title', \n",
    "                                    'description', 'debunk_date', \n",
    "                                    'debunked_by', 'debunkedby_url',\n",
    "                                    'sources', 'published'])\n",
    "df.to_csv('data/scrapes/CosmosC19.csv', index=False)\n",
    "df"
   ]
  },
  {
   "cell_type": "code",
   "execution_count": 6,
   "metadata": {},
   "outputs": [
    {
     "data": {
      "text/plain": [
       "<li class=\"mainListItem\" id=\"misinfo\">\n",
       "<p id=\"title\"><span id=\"tag\">False Claim</span> : <span id=\"text\">Kitchen worker in viral video is potentially spreading coronavirus by blowing into food containers.</span></p>\n",
       "<ul id=\"details\">\n",
       "<li id=\"debunkDate\">\n",
       "<div class=\"detailsIcon\" id=\"icon\"></div>\n",
       "<p id=\"label\">Debunk Date : </p>\n",
       "<p id=\"value\">05/19/2020</p>\n",
       "</li>\n",
       "<li id=\"debunkedBy\">\n",
       "<div class=\"detailsIcon\" id=\"icon\"></div>\n",
       "<p id=\"label\">Debunked By : </p>\n",
       "<a href=\"https://docs.google.com/spreadsheets/d/1C4zxIP4aO6hSheGR2HQ7BuB4FubdQdop/edit#gid=655351379\" target=\"_blank\">\n",
       "<p id=\"value\">\n",
       "                                    \n",
       "                                        docs\n",
       "                                    \n",
       "                                </p>\n",
       "</a>\n",
       "</li>\n",
       "<!-- <li id=\"published\">\n",
       "                            <div id=\"icon\" class=\"detailsIcon\"></div>\n",
       "                            <p id=\"label\">Published : </p>\n",
       "                            <p id=\"value\">04/03/2020</p>\n",
       "                        </li> -->\n",
       "<li id=\"sources\">\n",
       "<div class=\"detailsIcon\" id=\"icon\"></div>\n",
       "<p id=\"label\">Sources : </p>\n",
       "<p id=\"value\">Facebook, Bajan Ras</p>\n",
       "</li>\n",
       "</ul>\n",
       "<p id=\"description\" style=\"display:none\">The false claim is: \"Kitchen worker in viral video is potentially spreading coronavirus by blowing into food containers.\" This is false. The viral video of a kitchen worker blowing on food wrappers is at least three years old. This video appeared online as early as 2017.</p>\n",
       "<div id=\"sources\" style=\"display:none\">\n",
       "<div class=\"detailsIcon\" id=\"icon\"></div>\n",
       "<p id=\"label\">Sources : </p>\n",
       "<p id=\"value\">Facebook, Bajan Ras</p>\n",
       "</div>\n",
       "</li>"
      ]
     },
     "execution_count": 6,
     "metadata": {},
     "output_type": "execute_result"
    }
   ],
   "source": [
    "entries[100]"
   ]
  },
  {
   "cell_type": "code",
   "execution_count": 4,
   "metadata": {},
   "outputs": [
    {
     "data": {
      "text/plain": [
       "'Sources : '"
      ]
     },
     "execution_count": 4,
     "metadata": {},
     "output_type": "execute_result"
    }
   ],
   "source": [
    "sourcecomment"
   ]
  },
  {
   "cell_type": "code",
   "execution_count": null,
   "metadata": {},
   "outputs": [],
   "source": []
  }
 ],
 "metadata": {
  "kernelspec": {
   "display_name": "Python 3",
   "language": "python",
   "name": "python3"
  },
  "language_info": {
   "codemirror_mode": {
    "name": "ipython",
    "version": 3
   },
   "file_extension": ".py",
   "mimetype": "text/x-python",
   "name": "python",
   "nbconvert_exporter": "python",
   "pygments_lexer": "ipython3",
   "version": "3.7.3"
  },
  "toc": {
   "base_numbering": 1,
   "nav_menu": {},
   "number_sections": true,
   "sideBar": true,
   "skip_h1_title": false,
   "title_cell": "Table of Contents",
   "title_sidebar": "Contents",
   "toc_cell": false,
   "toc_position": {},
   "toc_section_display": true,
   "toc_window_display": false
  }
 },
 "nbformat": 4,
 "nbformat_minor": 2
}
