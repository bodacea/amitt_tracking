{
 "cells": [
  {
   "cell_type": "markdown",
   "metadata": {},
   "source": [
    "# Cluster images\n",
    "\n",
    "Check out https://learning.oreilly.com/library/view/programming-computer-vision/9781449341916/ch06.html"
   ]
  },
  {
   "cell_type": "code",
   "execution_count": 7,
   "metadata": {},
   "outputs": [],
   "source": [
    "import imtools\n",
    "from scipy.cluster.vq import *\n",
    "import glob"
   ]
  },
  {
   "cell_type": "code",
   "execution_count": 12,
   "metadata": {},
   "outputs": [
    {
     "data": {
      "text/plain": [
       "[]"
      ]
     },
     "execution_count": 12,
     "metadata": {},
     "output_type": "execute_result"
    }
   ],
   "source": [
    "# imlist = imtools.get_imlist('twitter_scraper_code/stopmandatoryvaccination/')\n",
    "files = glob.glob('twitter_scraper_code/stopmandatoryvaccination/images/*.*')\n",
    "files"
   ]
  },
  {
   "cell_type": "code",
   "execution_count": 5,
   "metadata": {},
   "outputs": [
    {
     "name": "stdout",
     "output_type": "stream",
     "text": [
      "Help on package imtools:\n",
      "\n",
      "NAME\n",
      "    imtools\n",
      "\n",
      "PACKAGE CONTENTS\n",
      "    datasets\n",
      "    dili\n",
      "    gen_vtk_tree\n",
      "    gt_lar\n",
      "    gt_lar_kunes\n",
      "    gt_lar_smooth\n",
      "    gt_volume\n",
      "    image_manipulation\n",
      "    lar_show_segmentation\n",
      "    misc\n",
      "    ml (package)\n",
      "    qmisc\n",
      "    sample_data\n",
      "    segmentation\n",
      "    select_label_qt\n",
      "    show_segmentation\n",
      "    show_segmentation_qt\n",
      "    surface_measurement\n",
      "    threshold_qsed_plugin\n",
      "    thresholding_functions\n",
      "    tools\n",
      "    trainer3d\n",
      "    uiThreshold\n",
      "    vesseltree_export\n",
      "    viewer\n",
      "\n",
      "DATA\n",
      "    __all__ = []\n",
      "\n",
      "VERSION\n",
      "    1.5.2\n",
      "\n",
      "FILE\n",
      "    /Users/sara/anaconda3/lib/python3.7/site-packages/imtools/__init__.py\n",
      "\n",
      "\n"
     ]
    }
   ],
   "source": [
    "help(imtools)"
   ]
  },
  {
   "cell_type": "code",
   "execution_count": null,
   "metadata": {},
   "outputs": [],
   "source": []
  }
 ],
 "metadata": {
  "kernelspec": {
   "display_name": "Python 3",
   "language": "python",
   "name": "python3"
  },
  "language_info": {
   "codemirror_mode": {
    "name": "ipython",
    "version": 3
   },
   "file_extension": ".py",
   "mimetype": "text/x-python",
   "name": "python",
   "nbconvert_exporter": "python",
   "pygments_lexer": "ipython3",
   "version": "3.7.1"
  }
 },
 "nbformat": 4,
 "nbformat_minor": 2
}
